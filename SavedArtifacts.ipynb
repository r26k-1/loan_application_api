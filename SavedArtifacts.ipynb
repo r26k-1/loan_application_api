{
 "cells": [
  {
   "cell_type": "code",
   "execution_count": 1,
   "id": "f2a9737c-e7ac-4d75-b7d6-20539906cc04",
   "metadata": {},
   "outputs": [],
   "source": [
    "import pickle\n",
    "import json\n",
    "import os\n",
    "import numpy as np\n",
    "\n",
    "artifacts_dir = '/Users/bipulkumar/Documents/mlops_fup_artifacts2'"
   ]
  },
  {
   "cell_type": "code",
   "execution_count": 2,
   "id": "0b889736-0b77-4807-bfcc-9a8c8496f010",
   "metadata": {},
   "outputs": [
    {
     "data": {
      "text/plain": [
       "['modellog.pkl',\n",
       " 'server.py',\n",
       " '.DS_Store',\n",
       " 'minmaxscaler.pkl',\n",
       " 'util.py',\n",
       " 'demo_flask.py',\n",
       " 'labelencoding.pkl',\n",
       " '__pycache__',\n",
       " 'columns.json']"
      ]
     },
     "execution_count": 2,
     "metadata": {},
     "output_type": "execute_result"
    }
   ],
   "source": [
    "os.listdir(artifacts_dir)"
   ]
  },
  {
   "cell_type": "code",
   "execution_count": 3,
   "id": "35144f2c-4ade-4f44-8b82-119fbc14824f",
   "metadata": {},
   "outputs": [
    {
     "name": "stdout",
     "output_type": "stream",
     "text": [
      "/Users/bipulkumar/Documents/mlops_fup_artifacts2/modellog.pkl\n",
      "/Users/bipulkumar/Documents/mlops_fup_artifacts2/minmaxscaler.pkl\n",
      "/Users/bipulkumar/Documents/mlops_fup_artifacts2/labelencoding.pkl\n",
      "/Users/bipulkumar/Documents/mlops_fup_artifacts2/columns.json\n"
     ]
    }
   ],
   "source": [
    "print(os.path.join(artifacts_dir,'modellog.pkl'))\n",
    "print(os.path.join(artifacts_dir,'minmaxscaler.pkl'))\n",
    "print(os.path.join(artifacts_dir,'labelencoding.pkl'))\n",
    "print(os.path.join(artifacts_dir,'columns.json'))"
   ]
  },
  {
   "cell_type": "code",
   "execution_count": 4,
   "id": "01b93df2-bce5-4735-916e-0fac6111217f",
   "metadata": {},
   "outputs": [],
   "source": [
    "with open(os.path.join(artifacts_dir,'modellog.pkl') , 'rb') as f:\n",
    "    _model = pickle.load(f)"
   ]
  },
  {
   "cell_type": "code",
   "execution_count": 5,
   "id": "7b2e8206-5065-43ae-9633-009347ce559d",
   "metadata": {},
   "outputs": [
    {
     "data": {
      "text/plain": [
       "array([[ 0.02382467,  0.35479553,  0.39528663, -0.442547  , -0.04913972,\n",
       "         0.04022649, -0.81819713,  0.23511056,  3.18026394,  0.22583306]])"
      ]
     },
     "execution_count": 5,
     "metadata": {},
     "output_type": "execute_result"
    }
   ],
   "source": [
    "_model.coef_"
   ]
  },
  {
   "cell_type": "code",
   "execution_count": 6,
   "id": "f311fc14-fedd-4750-85b7-e12a8be5d4c9",
   "metadata": {},
   "outputs": [],
   "source": [
    "with open(os.path.join(artifacts_dir,'minmaxscaler.pkl') , 'rb') as f:\n",
    "    _scaling = pickle.load(f)"
   ]
  },
  {
   "cell_type": "code",
   "execution_count": 7,
   "id": "42a01303-6502-4d44-9bcf-75189efda93b",
   "metadata": {},
   "outputs": [],
   "source": [
    "with open(os.path.join(artifacts_dir,'columns.json')) as f:\n",
    "    _data_columns = json.load(f)['features']"
   ]
  },
  {
   "cell_type": "code",
   "execution_count": 8,
   "id": "24ec3197-bfe8-4265-8447-70160468e368",
   "metadata": {},
   "outputs": [
    {
     "name": "stdout",
     "output_type": "stream",
     "text": [
      "['Gender', 'Married', 'Dependents', 'Education', 'Self_Employed', 'ApplicantIncome', 'LoanAmount', 'Loan_Amount_Term', 'Credit_History', 'Property_Area']\n"
     ]
    }
   ],
   "source": [
    "print(_data_columns)"
   ]
  },
  {
   "cell_type": "code",
   "execution_count": 9,
   "id": "0f7e89a8-8597-419d-bb17-941822888015",
   "metadata": {},
   "outputs": [],
   "source": [
    "num_cols = [\"ApplicantIncome\",\"CoapplicantIncome\",\"LoanAmount\",\"Loan_Amount_Term\"]\n",
    "\n",
    "cat_cols = ['Gender', 'Married', 'Dependents', 'Education', 'Self_Employed', 'Credit_History', \n",
    "            'Property_Area']\n"
   ]
  },
  {
   "cell_type": "code",
   "execution_count": 10,
   "id": "d8bf2be9-f780-4db3-961d-b825066178fb",
   "metadata": {},
   "outputs": [
    {
     "name": "stdout",
     "output_type": "stream",
     "text": [
      "[[1.         1.         0.         1.         1.         8.62819775\n",
      "  5.02388052 5.88610403 1.         2.        ]]\n",
      "[[1.         1.         0.         1.         1.         0.33621421\n",
      "  0.6492305  0.9220137  1.         1.        ]]\n",
      "Predicted Loan Status: Y\n"
     ]
    },
    {
     "name": "stderr",
     "output_type": "stream",
     "text": [
      "/Library/Frameworks/Python.framework/Versions/3.9/lib/python3.9/site-packages/sklearn/base.py:439: UserWarning: X does not have valid feature names, but MinMaxScaler was fitted with feature names\n",
      "  warnings.warn(\n"
     ]
    }
   ],
   "source": [
    "# Define the prediction function\n",
    "def predict(gender, married, dependents, education, selfemployed, applicantincome, loanamount,\n",
    "            loanamountterm, credithistory, propertyarea):\n",
    "\n",
    "    # Encode categorical features\n",
    "    gender_encode = lambda x : 0 if x == 'Female' else 1\n",
    "    married_encode = lambda x : 0 if x == 'No' else 1\n",
    "    dependents_encode = lambda x : 0 if x == '0' else 1 if x == '1' else 2 if x == '2' else 3\n",
    "    education_encode = lambda x : 0 if x == 'Graduate' else 1\n",
    "    self_employed_encode = lambda x : 0 if x == 'No' else 1\n",
    "    property_area_encode = lambda x : 0 if x == 'Rural' else 1 if x == 'Semiurban' else 2\n",
    "    \n",
    "    gender = gender_encode(gender)\n",
    "    married = married_encode(married)\n",
    "    dependents = dependents_encode(dependents)\n",
    "    education = education_encode(education)\n",
    "    selfemployed = self_employed_encode(selfemployed)\n",
    "    credithistory = credithistory\n",
    "    propertyarea = property_area_encode(propertyarea)\n",
    "    \n",
    "    # Log transform numerical features\n",
    "    applicantincome_log = np.log(applicantincome)\n",
    "    loanamount_log = np.log(loanamount)\n",
    "    loanamountterm_log = np.log(loanamountterm)\n",
    "    \n",
    "    # Combine all features into a single array\n",
    "    input_data = np.array([[gender, married, dependents, education, selfemployed, \n",
    "                            applicantincome_log, loanamount_log, loanamountterm_log, \n",
    "                            credithistory, propertyarea]])\n",
    "\n",
    "    print(input_data)\n",
    "    # Apply scaling to the entire input data\n",
    "    input_data_scaled = _scaling.transform(input_data)\n",
    "    print(input_data_scaled)\n",
    "\n",
    "    # Predict using the loaded model\n",
    "    prediction = _model.predict(input_data_scaled)\n",
    "    \n",
    "    print(\"Predicted Loan Status:\", prediction[0])\n",
    "\n",
    "# Example usage\n",
    "predict('Male', 'Yes', '0', 'Not Graduate', 'Yes', 5587, 152, 360.0, 1.0, 'Urban')"
   ]
  },
  {
   "cell_type": "code",
   "execution_count": 11,
   "id": "d346e633-0614-4d87-9f59-aa9b4b778cc7",
   "metadata": {},
   "outputs": [
    {
     "data": {
      "text/html": [
       "<div>\n",
       "<style scoped>\n",
       "    .dataframe tbody tr th:only-of-type {\n",
       "        vertical-align: middle;\n",
       "    }\n",
       "\n",
       "    .dataframe tbody tr th {\n",
       "        vertical-align: top;\n",
       "    }\n",
       "\n",
       "    .dataframe thead th {\n",
       "        text-align: right;\n",
       "    }\n",
       "</style>\n",
       "<table border=\"1\" class=\"dataframe\">\n",
       "  <thead>\n",
       "    <tr style=\"text-align: right;\">\n",
       "      <th></th>\n",
       "      <th>Gender</th>\n",
       "      <th>Married</th>\n",
       "      <th>Dependents</th>\n",
       "      <th>Education</th>\n",
       "      <th>Self_Employed</th>\n",
       "      <th>ApplicantIncome</th>\n",
       "      <th>LoanAmount</th>\n",
       "      <th>Loan_Amount_Term</th>\n",
       "      <th>Credit_History</th>\n",
       "      <th>Property_Area</th>\n",
       "    </tr>\n",
       "  </thead>\n",
       "  <tbody>\n",
       "    <tr>\n",
       "      <th>0</th>\n",
       "      <td>Male</td>\n",
       "      <td>Yes</td>\n",
       "      <td>0</td>\n",
       "      <td>Graduate</td>\n",
       "      <td>No</td>\n",
       "      <td>5720</td>\n",
       "      <td>110</td>\n",
       "      <td>360.0</td>\n",
       "      <td>1.0</td>\n",
       "      <td>Urban</td>\n",
       "    </tr>\n",
       "    <tr>\n",
       "      <th>1</th>\n",
       "      <td>Male</td>\n",
       "      <td>Yes</td>\n",
       "      <td>1</td>\n",
       "      <td>Graduate</td>\n",
       "      <td>No</td>\n",
       "      <td>4576</td>\n",
       "      <td>126</td>\n",
       "      <td>360.0</td>\n",
       "      <td>1.0</td>\n",
       "      <td>Urban</td>\n",
       "    </tr>\n",
       "    <tr>\n",
       "      <th>2</th>\n",
       "      <td>Male</td>\n",
       "      <td>Yes</td>\n",
       "      <td>2</td>\n",
       "      <td>Graduate</td>\n",
       "      <td>No</td>\n",
       "      <td>6800</td>\n",
       "      <td>208</td>\n",
       "      <td>360.0</td>\n",
       "      <td>1.0</td>\n",
       "      <td>Urban</td>\n",
       "    </tr>\n",
       "    <tr>\n",
       "      <th>3</th>\n",
       "      <td>Male</td>\n",
       "      <td>Yes</td>\n",
       "      <td>2</td>\n",
       "      <td>Graduate</td>\n",
       "      <td>No</td>\n",
       "      <td>4886</td>\n",
       "      <td>100</td>\n",
       "      <td>360.0</td>\n",
       "      <td>NaN</td>\n",
       "      <td>Urban</td>\n",
       "    </tr>\n",
       "    <tr>\n",
       "      <th>4</th>\n",
       "      <td>Male</td>\n",
       "      <td>No</td>\n",
       "      <td>0</td>\n",
       "      <td>Not Graduate</td>\n",
       "      <td>No</td>\n",
       "      <td>3276</td>\n",
       "      <td>78</td>\n",
       "      <td>360.0</td>\n",
       "      <td>1.0</td>\n",
       "      <td>Urban</td>\n",
       "    </tr>\n",
       "  </tbody>\n",
       "</table>\n",
       "</div>"
      ],
      "text/plain": [
       "  Gender Married Dependents     Education Self_Employed  ApplicantIncome  \\\n",
       "0   Male     Yes          0      Graduate            No             5720   \n",
       "1   Male     Yes          1      Graduate            No             4576   \n",
       "2   Male     Yes          2      Graduate            No             6800   \n",
       "3   Male     Yes          2      Graduate            No             4886   \n",
       "4   Male      No          0  Not Graduate            No             3276   \n",
       "\n",
       "   LoanAmount  Loan_Amount_Term  Credit_History Property_Area  \n",
       "0         110             360.0             1.0         Urban  \n",
       "1         126             360.0             1.0         Urban  \n",
       "2         208             360.0             1.0         Urban  \n",
       "3         100             360.0             NaN         Urban  \n",
       "4          78             360.0             1.0         Urban  "
      ]
     },
     "execution_count": 11,
     "metadata": {},
     "output_type": "execute_result"
    }
   ],
   "source": [
    "import pandas as pd\n",
    "\n",
    "df_test = pd.read_csv('test_loan.csv')\n",
    "\n",
    "df_test['ApplicantIncome'] = df_test['ApplicantIncome'] + df_test['CoapplicantIncome']\n",
    " \n",
    "df_test = df_test.drop(['Loan_ID','CoapplicantIncome'], axis = 'columns')\n",
    "\n",
    "df_test.head()"
   ]
  },
  {
   "cell_type": "code",
   "execution_count": 12,
   "id": "6c5235b5-b76d-4045-936c-593f1dc30058",
   "metadata": {},
   "outputs": [
    {
     "data": {
      "text/plain": [
       "Index(['Gender', 'Married', 'Dependents', 'Education', 'Self_Employed',\n",
       "       'ApplicantIncome', 'LoanAmount', 'Loan_Amount_Term', 'Credit_History',\n",
       "       'Property_Area'],\n",
       "      dtype='object')"
      ]
     },
     "execution_count": 12,
     "metadata": {},
     "output_type": "execute_result"
    }
   ],
   "source": [
    "df_test.columns"
   ]
  },
  {
   "cell_type": "code",
   "execution_count": 13,
   "id": "6928a77c-970c-4359-ab1c-d9fe64f529eb",
   "metadata": {},
   "outputs": [
    {
     "data": {
      "text/plain": [
       "array(['Male', 'Yes', '0', 'Not Graduate', 'Yes', 5587, 152, 360.0, 1.0,\n",
       "       'Urban'], dtype=object)"
      ]
     },
     "execution_count": 13,
     "metadata": {},
     "output_type": "execute_result"
    }
   ],
   "source": [
    "df_test.values[5]"
   ]
  },
  {
   "cell_type": "code",
   "execution_count": 14,
   "id": "028dbde9-2437-4214-881e-9cb5997f36de",
   "metadata": {},
   "outputs": [
    {
     "name": "stdout",
     "output_type": "stream",
     "text": [
      "Predicted Loan Status: Y\n"
     ]
    },
    {
     "name": "stderr",
     "output_type": "stream",
     "text": [
      "/Library/Frameworks/Python.framework/Versions/3.9/lib/python3.9/site-packages/sklearn/base.py:439: UserWarning: X does not have valid feature names, but MinMaxScaler was fitted with feature names\n",
      "  warnings.warn(\n"
     ]
    }
   ],
   "source": [
    "predict('Male', 'Yes', '0', 'Not Graduate', 'Yes', 5587, 152, 360.0, 1.0,'Urban')"
   ]
  },
  {
   "cell_type": "code",
   "execution_count": 12,
   "id": "21c826d0-d321-4f02-a474-a4782c79abf6",
   "metadata": {},
   "outputs": [],
   "source": [
    "import sklearn"
   ]
  },
  {
   "cell_type": "code",
   "execution_count": 13,
   "id": "729c5074-d7c9-44e2-8e03-f49208c702f9",
   "metadata": {},
   "outputs": [
    {
     "data": {
      "text/plain": [
       "'1.2.2'"
      ]
     },
     "execution_count": 13,
     "metadata": {},
     "output_type": "execute_result"
    }
   ],
   "source": [
    "sklearn.__version__"
   ]
  },
  {
   "cell_type": "code",
   "execution_count": null,
   "id": "59647be3-43f9-40fe-adb3-53e9b35c36cd",
   "metadata": {},
   "outputs": [],
   "source": []
  }
 ],
 "metadata": {
  "kernelspec": {
   "display_name": "Python 3 (ipykernel)",
   "language": "python",
   "name": "python3"
  },
  "language_info": {
   "codemirror_mode": {
    "name": "ipython",
    "version": 3
   },
   "file_extension": ".py",
   "mimetype": "text/x-python",
   "name": "python",
   "nbconvert_exporter": "python",
   "pygments_lexer": "ipython3",
   "version": "3.9.0"
  }
 },
 "nbformat": 4,
 "nbformat_minor": 5
}
